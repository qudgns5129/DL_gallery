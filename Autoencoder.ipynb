{
 "cells": [
  {
   "cell_type": "code",
   "execution_count": 21,
   "metadata": {},
   "outputs": [],
   "source": [
    "# AE 정의하기\n",
    "from models.AE import Autoencoder\n",
    "\n",
    "AE = Autoencoder(\n",
    "    input_dim = (28,28,1),\n",
    "    encoder_conv_filters = [32,64,64,64],\n",
    "    encoder_conv_kernel_size = [3,3,3,3],\n",
    "    encoder_conv_strides = [1,2,2,1],\n",
    "    decoder_conv_t_filters = [64,64,32,1],\n",
    "    decoder_conv_t_kernel_size = [3,3,3,3],\n",
    "    decoder_conv_t_strides = [1,2,2,1],\n",
    "    z_dim = 2)"
   ]
  },
  {
   "cell_type": "code",
   "execution_count": 22,
   "metadata": {},
   "outputs": [
    {
     "name": "stdout",
     "output_type": "stream",
     "text": [
      "_________________________________________________________________\n",
      "Layer (type)                 Output Shape              Param #   \n",
      "=================================================================\n",
      "encoder_input (InputLayer)   (None, 28, 28, 1)         0         \n",
      "_________________________________________________________________\n",
      "encoder_conv_0 (Conv2D)      (None, 28, 28, 32)        320       \n",
      "_________________________________________________________________\n",
      "leaky_re_lu_8 (LeakyReLU)    (None, 28, 28, 32)        0         \n",
      "_________________________________________________________________\n",
      "encoder_conv_1 (Conv2D)      (None, 14, 14, 64)        18496     \n",
      "_________________________________________________________________\n",
      "leaky_re_lu_9 (LeakyReLU)    (None, 14, 14, 64)        0         \n",
      "_________________________________________________________________\n",
      "encoder_conv_2 (Conv2D)      (None, 7, 7, 64)          36928     \n",
      "_________________________________________________________________\n",
      "leaky_re_lu_10 (LeakyReLU)   (None, 7, 7, 64)          0         \n",
      "_________________________________________________________________\n",
      "encoder_conv_3 (Conv2D)      (None, 7, 7, 64)          36928     \n",
      "_________________________________________________________________\n",
      "leaky_re_lu_11 (LeakyReLU)   (None, 7, 7, 64)          0         \n",
      "_________________________________________________________________\n",
      "flatten_2 (Flatten)          (None, 3136)              0         \n",
      "_________________________________________________________________\n",
      "encoder_output (Dense)       (None, 2)                 6274      \n",
      "=================================================================\n",
      "Total params: 98,946\n",
      "Trainable params: 98,946\n",
      "Non-trainable params: 0\n",
      "_________________________________________________________________\n"
     ]
    }
   ],
   "source": [
    "# 인코더 구조\n",
    "AE.encoder.summary()"
   ]
  },
  {
   "cell_type": "code",
   "execution_count": 23,
   "metadata": {},
   "outputs": [
    {
     "name": "stdout",
     "output_type": "stream",
     "text": [
      "_________________________________________________________________\n",
      "Layer (type)                 Output Shape              Param #   \n",
      "=================================================================\n",
      "decoder_input (InputLayer)   (None, 2)                 0         \n",
      "_________________________________________________________________\n",
      "dense_2 (Dense)              (None, 3136)              9408      \n",
      "_________________________________________________________________\n",
      "reshape_2 (Reshape)          (None, 7, 7, 64)          0         \n",
      "_________________________________________________________________\n",
      "decoder_conv_t_0 (Conv2DTran (None, 7, 7, 64)          36928     \n",
      "_________________________________________________________________\n",
      "leaky_re_lu_12 (LeakyReLU)   (None, 7, 7, 64)          0         \n",
      "_________________________________________________________________\n",
      "decoder_conv_t_1 (Conv2DTran (None, 14, 14, 64)        36928     \n",
      "_________________________________________________________________\n",
      "leaky_re_lu_13 (LeakyReLU)   (None, 14, 14, 64)        0         \n",
      "_________________________________________________________________\n",
      "decoder_conv_t_2 (Conv2DTran (None, 28, 28, 32)        18464     \n",
      "_________________________________________________________________\n",
      "leaky_re_lu_14 (LeakyReLU)   (None, 28, 28, 32)        0         \n",
      "_________________________________________________________________\n",
      "decoder_conv_t_3 (Conv2DTran (None, 28, 28, 1)         289       \n",
      "_________________________________________________________________\n",
      "activation_2 (Activation)    (None, 28, 28, 1)         0         \n",
      "=================================================================\n",
      "Total params: 102,017\n",
      "Trainable params: 102,017\n",
      "Non-trainable params: 0\n",
      "_________________________________________________________________\n"
     ]
    }
   ],
   "source": [
    "# 디코더 구조\n",
    "AE.decoder.summary()"
   ]
  },
  {
   "cell_type": "code",
   "execution_count": 24,
   "metadata": {},
   "outputs": [],
   "source": [
    "# 실행 매개변수\n",
    "SECTION = 'vae'\n",
    "RUN_ID = '0001'\n",
    "DATA_NAME = 'digits'\n",
    "RUN_FOLDER = 'run/{}/'.format(SECTION)\n",
    "RUN_FOLDER += '_'.join([RUN_ID, DATA_NAME])\n",
    "\n",
    "if not os.path.exists(RUN_FOLDER):\n",
    "    os.mkdir(RUN_FOLDER)\n",
    "    os.mkdir(os.path.join(RUN_FOLDER, 'viz'))\n",
    "    os.mkdir(os.path.join(RUN_FOLDER, 'images'))\n",
    "    os.mkdir(os.path.join(RUN_FOLDER, 'weights'))\n",
    "\n",
    "MODE =  'build' #'load' #"
   ]
  },
  {
   "cell_type": "code",
   "execution_count": 25,
   "metadata": {},
   "outputs": [],
   "source": [
    "import os\n",
    "\n",
    "from utils.loaders import load_mnist\n",
    "\n",
    "(x_train, y_train), (x_test, y_test) = load_mnist()"
   ]
  },
  {
   "cell_type": "code",
   "execution_count": 26,
   "metadata": {},
   "outputs": [],
   "source": [
    "LEARNING_RATE = 0.0005\n",
    "BATCH_SIZE = 32\n",
    "INITIAL_EPOCH = 0"
   ]
  },
  {
   "cell_type": "code",
   "execution_count": 27,
   "metadata": {},
   "outputs": [
    {
     "name": "stdout",
     "output_type": "stream",
     "text": [
      "Epoch 1/30\n",
      "  96/1000 [=>............................] - ETA: 26s - loss: 0.2305"
     ]
    },
    {
     "name": "stderr",
     "output_type": "stream",
     "text": [
      "C:\\Users\\82105\\Anaconda3\\envs\\DL_gallery2\\lib\\site-packages\\keras\\callbacks.py:122: UserWarning: Method on_batch_end() is slow compared to the batch update (0.154550). Check your callbacks.\n",
      "  % delta_t_median)\n"
     ]
    },
    {
     "name": "stdout",
     "output_type": "stream",
     "text": [
      "1000/1000 [==============================] - 8s 8ms/step - loss: 0.1829\n",
      "\n",
      "Epoch 00001: saving model to run/vae/0001_digits\\weights/weights.h5\n",
      "Epoch 2/30\n",
      "1000/1000 [==============================] - 6s 6ms/step - loss: 0.0887A: 3s - loss: 0.1 - ETA: 2s\n",
      "\n",
      "Epoch 00002: saving model to run/vae/0001_digits\\weights/weights.h5\n",
      "Epoch 3/30\n",
      "1000/1000 [==============================] - 6s 6ms/step - loss: 0.0681\n",
      "\n",
      "Epoch 00003: saving model to run/vae/0001_digits\\weights/weights.h5\n",
      "Epoch 4/30\n",
      "1000/1000 [==============================] - 6s 6ms/step - loss: 0.0614\n",
      "\n",
      "Epoch 00004: saving model to run/vae/0001_digits\\weights/weights.h5\n",
      "Epoch 5/30\n",
      "1000/1000 [==============================] - 6s 6ms/step - loss: 0.0578A\n",
      "\n",
      "Epoch 00005: saving model to run/vae/0001_digits\\weights/weights.h5\n",
      "Epoch 6/30\n",
      "1000/1000 [==============================] - 6s 6ms/step - loss: 0.0562A: 5s - l - ETA: 3s - loss: 0. - ETA: 2s\n",
      "\n",
      "Epoch 00006: saving model to run/vae/0001_digits\\weights/weights.h5\n",
      "Epoch 7/30\n",
      "1000/1000 [==============================] - 6s 6ms/step - loss: 0.0552\n",
      "\n",
      "Epoch 00007: saving model to run/vae/0001_digits\\weights/weights.h5\n",
      "Epoch 8/30\n",
      "1000/1000 [==============================] - 6s 6ms/step - loss: 0.0544A: 2s - \n",
      "\n",
      "Epoch 00008: saving model to run/vae/0001_digits\\weights/weights.h5\n",
      "Epoch 9/30\n",
      "1000/1000 [==============================] - 6s 6ms/step - loss: 0.0537\n",
      "\n",
      "Epoch 00009: saving model to run/vae/0001_digits\\weights/weights.h5\n",
      "Epoch 10/30\n",
      "1000/1000 [==============================] - 6s 6ms/step - loss: 0.0531\n",
      "\n",
      "Epoch 00010: saving model to run/vae/0001_digits\\weights/weights.h5\n",
      "Epoch 11/30\n",
      "1000/1000 [==============================] - 6s 6ms/step - loss: 0.0525A: 2s - \n",
      "\n",
      "Epoch 00011: saving model to run/vae/0001_digits\\weights/weights.h5\n",
      "Epoch 12/30\n",
      "1000/1000 [==============================] - 5s 5ms/step - loss: 0.0522\n",
      "\n",
      "Epoch 00012: saving model to run/vae/0001_digits\\weights/weights.h5\n",
      "Epoch 13/30\n",
      "1000/1000 [==============================] - 5s 5ms/step - loss: 0.0516A: 1s - \n",
      "\n",
      "Epoch 00013: saving model to run/vae/0001_digits\\weights/weights.h5\n",
      "Epoch 14/30\n",
      "1000/1000 [==============================] - 6s 6ms/step - loss: 0.0513\n",
      "\n",
      "Epoch 00014: saving model to run/vae/0001_digits\\weights/weights.h5\n",
      "Epoch 15/30\n",
      "1000/1000 [==============================] - 6s 6ms/step - loss: 0.0512\n",
      "\n",
      "Epoch 00015: saving model to run/vae/0001_digits\\weights/weights.h5\n",
      "Epoch 16/30\n",
      "1000/1000 [==============================] - 5s 5ms/step - loss: 0.0508\n",
      "\n",
      "Epoch 00016: saving model to run/vae/0001_digits\\weights/weights.h5\n",
      "Epoch 17/30\n",
      "1000/1000 [==============================] - 5s 5ms/step - loss: 0.0504\n",
      "\n",
      "Epoch 00017: saving model to run/vae/0001_digits\\weights/weights.h5\n",
      "Epoch 18/30\n",
      "1000/1000 [==============================] - 6s 6ms/step - loss: 0.0501\n",
      "\n",
      "Epoch 00018: saving model to run/vae/0001_digits\\weights/weights.h5\n",
      "Epoch 19/30\n",
      "1000/1000 [==============================] - 6s 6ms/step - loss: 0.0497\n",
      "\n",
      "Epoch 00019: saving model to run/vae/0001_digits\\weights/weights.h5\n",
      "Epoch 20/30\n",
      "1000/1000 [==============================] - 6s 6ms/step - loss: 0.0497\n",
      "\n",
      "Epoch 00020: saving model to run/vae/0001_digits\\weights/weights.h5\n",
      "Epoch 21/30\n",
      "1000/1000 [==============================] - 6s 6ms/step - loss: 0.0492\n",
      "\n",
      "Epoch 00021: saving model to run/vae/0001_digits\\weights/weights.h5\n",
      "Epoch 22/30\n",
      "1000/1000 [==============================] - 6s 6ms/step - loss: 0.0489\n",
      "\n",
      "Epoch 00022: saving model to run/vae/0001_digits\\weights/weights.h5\n",
      "Epoch 23/30\n",
      "1000/1000 [==============================] - 7s 7ms/step - loss: 0.0487\n",
      "\n",
      "Epoch 00023: saving model to run/vae/0001_digits\\weights/weights.h5\n",
      "Epoch 24/30\n",
      "1000/1000 [==============================] - 5s 5ms/step - loss: 0.0486\n",
      "\n",
      "Epoch 00024: saving model to run/vae/0001_digits\\weights/weights.h5\n",
      "Epoch 25/30\n",
      "1000/1000 [==============================] - 5s 5ms/step - loss: 0.0482\n",
      "\n",
      "Epoch 00025: saving model to run/vae/0001_digits\\weights/weights.h5\n",
      "Epoch 26/30\n",
      "1000/1000 [==============================] - 6s 6ms/step - loss: 0.0481\n",
      "\n",
      "Epoch 00026: saving model to run/vae/0001_digits\\weights/weights.h5\n",
      "Epoch 27/30\n",
      "1000/1000 [==============================] - 6s 6ms/step - loss: 0.0477\n",
      "\n",
      "Epoch 00027: saving model to run/vae/0001_digits\\weights/weights.h5\n",
      "Epoch 28/30\n",
      "1000/1000 [==============================] - 6s 6ms/step - loss: 0.0476\n",
      "\n",
      "Epoch 00028: saving model to run/vae/0001_digits\\weights/weights.h5\n",
      "Epoch 29/30\n",
      "1000/1000 [==============================] - 6s 6ms/step - loss: 0.0473A: 1s - los\n",
      "\n",
      "Epoch 00029: saving model to run/vae/0001_digits\\weights/weights.h5\n",
      "Epoch 30/30\n",
      "1000/1000 [==============================] - 6s 6ms/step - loss: 0.0471\n",
      "\n",
      "Epoch 00030: saving model to run/vae/0001_digits\\weights/weights.h5\n"
     ]
    }
   ],
   "source": [
    "AE.compile(LEARNING_RATE)\n",
    "\n",
    "AE.train(     \n",
    "    x_train[:1000]\n",
    "    , batch_size = BATCH_SIZE\n",
    "    , epochs = 30\n",
    "    , run_folder = RUN_FOLDER\n",
    "    , initial_epoch = INITIAL_EPOCH\n",
    ")"
   ]
  },
  {
   "cell_type": "code",
   "execution_count": null,
   "metadata": {},
   "outputs": [],
   "source": []
  }
 ],
 "metadata": {
  "kernelspec": {
   "display_name": "DL_gallery",
   "language": "python",
   "name": "dl_gallery"
  },
  "language_info": {
   "codemirror_mode": {
    "name": "ipython",
    "version": 3
   },
   "file_extension": ".py",
   "mimetype": "text/x-python",
   "name": "python",
   "nbconvert_exporter": "python",
   "pygments_lexer": "ipython3",
   "version": "3.6.12"
  }
 },
 "nbformat": 4,
 "nbformat_minor": 2
}
